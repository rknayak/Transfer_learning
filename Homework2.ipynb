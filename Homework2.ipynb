{
 "cells": [
  {
   "cell_type": "markdown",
   "metadata": {},
   "source": [
    "### homework 2, part 1\n",
    "\n",
    "build a CNN to classify the galaxies you worked with in homework 1\n",
    "\n",
    "in order to submit you need to achieve a validation set accuracy of 75% or more.\n",
    "\n",
    "the notebook below explains how to use transfer learning - to load part of a pre-trained vision model and use that to build a new model."
   ]
  },
  {
   "cell_type": "code",
   "execution_count": null,
   "metadata": {},
   "outputs": [],
   "source": []
  },
  {
   "cell_type": "markdown",
   "metadata": {},
   "source": [
    "download the dataset (if you don't already have it from HW 1)"
   ]
  },
  {
   "cell_type": "code",
   "execution_count": 1,
   "metadata": {},
   "outputs": [
    {
     "name": "stderr",
     "output_type": "stream",
     "text": [
      "'wget' is not recognized as an internal or external command,\n",
      "operable program or batch file.\n"
     ]
    }
   ],
   "source": [
    "!wget https://www.dropbox.com/s/apl6g5g9svhnfyg/Dataset.zip"
   ]
  },
  {
   "cell_type": "code",
   "execution_count": null,
   "metadata": {},
   "outputs": [],
   "source": [
    "!unzip Dataset.zip"
   ]
  },
  {
   "cell_type": "code",
   "execution_count": 1,
   "metadata": {},
   "outputs": [],
   "source": [
    "path_to_training_data = 'Dataset/train/'\n",
    "path_to_validation_data = 'Dataset/validation/'"
   ]
  },
  {
   "cell_type": "code",
   "execution_count": 2,
   "metadata": {},
   "outputs": [],
   "source": [
    "%load_ext autoreload\n",
    "%autoreload 2"
   ]
  },
  {
   "cell_type": "markdown",
   "metadata": {},
   "source": [
    "#### you can reuse your dataloader from homework 1, but don't flatten the image - keep it as 69x69,\n",
    "#### IMPORTANT repeat the single grayscale image 3 times so that you get a 3x69x69 image\n",
    "the pre-trained model we will use has been trained on color images that have three channel (R,G,B) so we need our input to match that, at least in its shape.\n",
    "\n",
    "\n",
    "you can add the extra repetitions like this:"
   ]
  },
  {
   "cell_type": "code",
   "execution_count": 3,
   "metadata": {},
   "outputs": [
    {
     "name": "stdout",
     "output_type": "stream",
     "text": [
      "torch.Size([1, 69, 69])\n",
      "torch.Size([3, 69, 69])\n"
     ]
    }
   ],
   "source": [
    "import torch\n",
    "some_tensor = torch.rand(1,69,69)\n",
    "print(some_tensor.shape)\n",
    "some_tensor = some_tensor.repeat(3,1,1) ## <--- repeat \n",
    "print(some_tensor.shape)"
   ]
  },
  {
   "cell_type": "code",
   "execution_count": 4,
   "metadata": {},
   "outputs": [],
   "source": [
    "from dataloader import CustomDataset"
   ]
  },
  {
   "cell_type": "code",
   "execution_count": 5,
   "metadata": {},
   "outputs": [
    {
     "name": "stdout",
     "output_type": "stream",
     "text": [
      "tensor([[[0., 0., 0.,  ..., 0., 0., 0.],\n",
      "         [0., 0., 0.,  ..., 0., 0., 0.],\n",
      "         [0., 0., 0.,  ..., 0., 0., 0.],\n",
      "         ...,\n",
      "         [0., 0., 0.,  ..., 0., 0., 0.],\n",
      "         [0., 0., 0.,  ..., 0., 0., 0.],\n",
      "         [0., 0., 0.,  ..., 0., 0., 0.]],\n",
      "\n",
      "        [[0., 0., 0.,  ..., 0., 0., 0.],\n",
      "         [0., 0., 0.,  ..., 0., 0., 0.],\n",
      "         [0., 0., 0.,  ..., 0., 0., 0.],\n",
      "         ...,\n",
      "         [0., 0., 0.,  ..., 0., 0., 0.],\n",
      "         [0., 0., 0.,  ..., 0., 0., 0.],\n",
      "         [0., 0., 0.,  ..., 0., 0., 0.]],\n",
      "\n",
      "        [[0., 0., 0.,  ..., 0., 0., 0.],\n",
      "         [0., 0., 0.,  ..., 0., 0., 0.],\n",
      "         [0., 0., 0.,  ..., 0., 0., 0.],\n",
      "         ...,\n",
      "         [0., 0., 0.,  ..., 0., 0., 0.],\n",
      "         [0., 0., 0.,  ..., 0., 0., 0.],\n",
      "         [0., 0., 0.,  ..., 0., 0., 0.]]]) tensor(0)\n"
     ]
    },
    {
     "data": {
      "text/plain": [
       "torch.Size([3, 69, 69])"
      ]
     },
     "execution_count": 5,
     "metadata": {},
     "output_type": "execute_result"
    }
   ],
   "source": [
    "training_ds = CustomDataset(path_to_training_data,transform=True)\n",
    "validation_ds = CustomDataset(path_to_validation_data)\n",
    "\n",
    "\n",
    "some_random_idx = 52\n",
    "x,y = training_ds[some_random_idx]\n",
    "print(x,y)\n",
    "x.shape"
   ]
  },
  {
   "cell_type": "code",
   "execution_count": 6,
   "metadata": {},
   "outputs": [],
   "source": [
    "from torch.utils.data import Dataset, DataLoader\n",
    "\n",
    "training_dataloader = DataLoader(training_ds,batch_size=300,shuffle=True)\n",
    "valid_dataloader = DataLoader(validation_ds,batch_size=300)"
   ]
  },
  {
   "cell_type": "code",
   "execution_count": 7,
   "metadata": {},
   "outputs": [
    {
     "name": "stdout",
     "output_type": "stream",
     "text": [
      "torch.Size([300, 3, 69, 69]) torch.Size([300])\n"
     ]
    }
   ],
   "source": [
    "#make sure that you are getting the right dimensions - (Batch size, 3, 69,69)\n",
    "\n",
    "for x,y in training_dataloader:\n",
    "    print(x.shape,y.shape)\n",
    "    break"
   ]
  },
  {
   "cell_type": "markdown",
   "metadata": {},
   "source": [
    "### download the pre-trained model\n",
    "\n",
    "chose from the list of models here\n",
    "https://pytorch.org/vision/stable/models.html"
   ]
  },
  {
   "cell_type": "code",
   "execution_count": 8,
   "metadata": {},
   "outputs": [],
   "source": [
    "import torchvision.models as models\n",
    "\n",
    "\n",
    "pretrained_model = models.vgg11(pretrained=True)"
   ]
  },
  {
   "cell_type": "markdown",
   "metadata": {},
   "source": [
    "### you can look at the internals of the models and pick which parts you want."
   ]
  },
  {
   "cell_type": "code",
   "execution_count": 9,
   "metadata": {},
   "outputs": [
    {
     "data": {
      "text/plain": [
       "VGG(\n",
       "  (features): Sequential(\n",
       "    (0): Conv2d(3, 64, kernel_size=(3, 3), stride=(1, 1), padding=(1, 1))\n",
       "    (1): ReLU(inplace=True)\n",
       "    (2): MaxPool2d(kernel_size=2, stride=2, padding=0, dilation=1, ceil_mode=False)\n",
       "    (3): Conv2d(64, 128, kernel_size=(3, 3), stride=(1, 1), padding=(1, 1))\n",
       "    (4): ReLU(inplace=True)\n",
       "    (5): MaxPool2d(kernel_size=2, stride=2, padding=0, dilation=1, ceil_mode=False)\n",
       "    (6): Conv2d(128, 256, kernel_size=(3, 3), stride=(1, 1), padding=(1, 1))\n",
       "    (7): ReLU(inplace=True)\n",
       "    (8): Conv2d(256, 256, kernel_size=(3, 3), stride=(1, 1), padding=(1, 1))\n",
       "    (9): ReLU(inplace=True)\n",
       "    (10): MaxPool2d(kernel_size=2, stride=2, padding=0, dilation=1, ceil_mode=False)\n",
       "    (11): Conv2d(256, 512, kernel_size=(3, 3), stride=(1, 1), padding=(1, 1))\n",
       "    (12): ReLU(inplace=True)\n",
       "    (13): Conv2d(512, 512, kernel_size=(3, 3), stride=(1, 1), padding=(1, 1))\n",
       "    (14): ReLU(inplace=True)\n",
       "    (15): MaxPool2d(kernel_size=2, stride=2, padding=0, dilation=1, ceil_mode=False)\n",
       "    (16): Conv2d(512, 512, kernel_size=(3, 3), stride=(1, 1), padding=(1, 1))\n",
       "    (17): ReLU(inplace=True)\n",
       "    (18): Conv2d(512, 512, kernel_size=(3, 3), stride=(1, 1), padding=(1, 1))\n",
       "    (19): ReLU(inplace=True)\n",
       "    (20): MaxPool2d(kernel_size=2, stride=2, padding=0, dilation=1, ceil_mode=False)\n",
       "  )\n",
       "  (avgpool): AdaptiveAvgPool2d(output_size=(7, 7))\n",
       "  (classifier): Sequential(\n",
       "    (0): Linear(in_features=25088, out_features=4096, bias=True)\n",
       "    (1): ReLU(inplace=True)\n",
       "    (2): Dropout(p=0.5, inplace=False)\n",
       "    (3): Linear(in_features=4096, out_features=4096, bias=True)\n",
       "    (4): ReLU(inplace=True)\n",
       "    (5): Dropout(p=0.5, inplace=False)\n",
       "    (6): Linear(in_features=4096, out_features=1000, bias=True)\n",
       "  )\n",
       ")"
      ]
     },
     "execution_count": 9,
     "metadata": {},
     "output_type": "execute_result"
    }
   ],
   "source": [
    "pretrained_model"
   ]
  },
  {
   "cell_type": "code",
   "execution_count": 10,
   "metadata": {},
   "outputs": [
    {
     "data": {
      "text/plain": [
       "torch.Size([300, 1000])"
      ]
     },
     "execution_count": 10,
     "metadata": {},
     "output_type": "execute_result"
    }
   ],
   "source": [
    "#the pretrained models have an output shape that matches the number of classes they were trained on\n",
    "pretrained_model(x).shape"
   ]
  },
  {
   "cell_type": "markdown",
   "metadata": {},
   "source": [
    "##### pass the 69x69x3 image through the part of the model we want to use, look at the output size, build the classifier to take this size as input"
   ]
  },
  {
   "cell_type": "code",
   "execution_count": 11,
   "metadata": {},
   "outputs": [
    {
     "data": {
      "text/plain": [
       "torch.Size([300, 512, 2, 2])"
      ]
     },
     "execution_count": 11,
     "metadata": {},
     "output_type": "execute_result"
    }
   ],
   "source": [
    "pretrained_model.features(x).shape"
   ]
  },
  {
   "cell_type": "code",
   "execution_count": null,
   "metadata": {},
   "outputs": [],
   "source": []
  },
  {
   "cell_type": "markdown",
   "metadata": {},
   "source": [
    "### build your model"
   ]
  },
  {
   "cell_type": "code",
   "execution_count": 18,
   "metadata": {},
   "outputs": [],
   "source": [
    "from model import Net"
   ]
  },
  {
   "cell_type": "code",
   "execution_count": 19,
   "metadata": {},
   "outputs": [],
   "source": [
    "net = Net()"
   ]
  },
  {
   "cell_type": "code",
   "execution_count": 21,
   "metadata": {},
   "outputs": [
    {
     "data": {
      "text/plain": [
       "torch.Size([300, 10])"
      ]
     },
     "execution_count": 21,
     "metadata": {},
     "output_type": "execute_result"
    }
   ],
   "source": [
    "net(x).shape"
   ]
  },
  {
   "cell_type": "markdown",
   "metadata": {},
   "source": [
    "### how to use the pre-trained model weights?\n",
    "\n",
    "we need to modify the state_dict of the model.\n",
    "this is dictionary that maps between a layer name to the actual weights"
   ]
  },
  {
   "cell_type": "code",
   "execution_count": 22,
   "metadata": {},
   "outputs": [
    {
     "name": "stdout",
     "output_type": "stream",
     "text": [
      "features.0.weight\n",
      "features.0.bias\n",
      "features.3.weight\n",
      "features.3.bias\n",
      "features.6.weight\n",
      "features.6.bias\n",
      "features.8.weight\n",
      "features.8.bias\n",
      "features.11.weight\n",
      "features.11.bias\n",
      "features.13.weight\n",
      "features.13.bias\n",
      "features.16.weight\n",
      "features.16.bias\n",
      "features.18.weight\n",
      "features.18.bias\n",
      "classifier.0.weight\n",
      "classifier.0.bias\n",
      "classifier.3.weight\n",
      "classifier.3.bias\n",
      "classifier.6.weight\n",
      "classifier.6.bias\n"
     ]
    }
   ],
   "source": [
    "for key in net.state_dict().keys():\n",
    "    print(key)"
   ]
  },
  {
   "cell_type": "markdown",
   "metadata": {},
   "source": [
    "### copy the parts of the pre-trained model to your models state dict, and use load_state_dict to actually update the model. now you are ready to train"
   ]
  },
  {
   "cell_type": "code",
   "execution_count": 23,
   "metadata": {},
   "outputs": [
    {
     "data": {
      "text/plain": [
       "<All keys matched successfully>"
      ]
     },
     "execution_count": 23,
     "metadata": {},
     "output_type": "execute_result"
    }
   ],
   "source": [
    "pretrained_dict = pretrained_model.state_dict()\n",
    "state_dict = net.state_dict()\n",
    "\n",
    "for key in state_dict.keys():\n",
    "    if 'features' not in key:\n",
    "        continue\n",
    "    if key in pretrained_dict.keys():\n",
    "        state_dict[key] = pretrained_dict[key]\n",
    "\n",
    "net.load_state_dict(state_dict)"
   ]
  },
  {
   "cell_type": "code",
   "execution_count": null,
   "metadata": {},
   "outputs": [],
   "source": []
  },
  {
   "cell_type": "markdown",
   "metadata": {},
   "source": [
    "### the rest of the code is the same as homework 1\n",
    "\n",
    "you can submit the homework when you achieve validation accuracy above 75%"
   ]
  },
  {
   "cell_type": "code",
   "execution_count": 24,
   "metadata": {},
   "outputs": [],
   "source": [
    "import torch.nn as nn\n",
    "import torch.optim as optim\n",
    "\n",
    "\n",
    "loss_func = nn.CrossEntropyLoss()\n",
    "optimizer = optim.Adam(net.parameters(), lr=0.001) "
   ]
  },
  {
   "cell_type": "code",
   "execution_count": 25,
   "metadata": {},
   "outputs": [],
   "source": [
    "def compute_accuracy_and_loss(dataloader,net):\n",
    "    total = 0\n",
    "    correct = 0\n",
    "    \n",
    "    loss = 0\n",
    "    \n",
    "    if torch.cuda.is_available():\n",
    "        net.cuda()\n",
    "    net.eval()\n",
    "    \n",
    "    n_batches = 0\n",
    "    with torch.no_grad():\n",
    "        for x,y in dataloader:\n",
    "            n_batches+=1\n",
    "            \n",
    "            if torch.cuda.is_available():\n",
    "                x = x.cuda()\n",
    "                y = y.cuda()\n",
    "            pred = net(x)\n",
    "            \n",
    "            loss+= loss_func(pred,y).item()\n",
    "            \n",
    "            pred = torch.argmax(pred,dim=1)\n",
    "\n",
    "            correct+=len(torch.where(pred==y)[0])\n",
    "            total+=len(y)\n",
    "    loss = loss/n_batches      \n",
    "    return correct/total, loss"
   ]
  },
  {
   "cell_type": "code",
   "execution_count": 26,
   "metadata": {},
   "outputs": [],
   "source": [
    "if torch.cuda.is_available():\n",
    "    net.cuda()"
   ]
  },
  {
   "cell_type": "code",
   "execution_count": 27,
   "metadata": {
    "scrolled": true
   },
   "outputs": [
    {
     "name": "stdout",
     "output_type": "stream",
     "text": [
      "epoch 2  val acc:0.65300, train acc:0.64650\n",
      "epoch 3  val acc:0.70580, train acc:0.70070\n",
      "epoch 4  val acc:0.71340, train acc:0.70860\n",
      "epoch 5  val acc:0.74640, train acc:0.73940\n",
      "epoch 6  val acc:0.75060, train acc:0.74010\n",
      "epoch 7  val acc:0.77660, train acc:0.78280\n",
      "epoch 8  val acc:0.79860, train acc:0.79480\n",
      "epoch 9  val acc:0.78140, train acc:0.78800\n",
      "epoch 10  val acc:0.79940, train acc:0.79100\n",
      "epoch 11  val acc:0.78440, train acc:0.79260\n",
      "epoch 12  val acc:0.80240, train acc:0.80480\n",
      "epoch 13  val acc:0.80160, train acc:0.81070\n",
      "epoch 14  val acc:0.79600, train acc:0.80150\n",
      "epoch 15  val acc:0.82700, train acc:0.83590\n",
      "epoch 16  val acc:0.82900, train acc:0.83200\n",
      "epoch 17  val acc:0.82300, train acc:0.83170\n",
      "epoch 18  val acc:0.84340, train acc:0.84350\n",
      "epoch 19  val acc:0.82440, train acc:0.82820\n",
      "epoch 20  val acc:0.84220, train acc:0.85460\n",
      "epoch 21  val acc:0.83040, train acc:0.83370\n",
      "epoch 22  val acc:0.81820, train acc:0.84470\n",
      "epoch 23  val acc:0.83440, train acc:0.84920\n",
      "epoch 24  val acc:0.84340, train acc:0.86180\n",
      "epoch 25  val acc:0.83880, train acc:0.85600\n",
      "epoch 26  val acc:0.84780, train acc:0.87360\n",
      "epoch 27  val acc:0.84920, train acc:0.87430\n",
      "epoch 28  val acc:0.85240, train acc:0.86580\n",
      "epoch 29  val acc:0.86000, train acc:0.87290\n",
      "epoch 30  val acc:0.85320, train acc:0.87130\n",
      "epoch 31  val acc:0.85820, train acc:0.87410\n",
      "epoch 32  val acc:0.85000, train acc:0.86790\n",
      "epoch 33  val acc:0.86200, train acc:0.87770\n",
      "epoch 34  val acc:0.85800, train acc:0.88100\n",
      "epoch 35  val acc:0.84620, train acc:0.86740\n",
      "epoch 36  val acc:0.85880, train acc:0.88260\n",
      "epoch 37  val acc:0.82460, train acc:0.85540\n",
      "epoch 38  val acc:0.85600, train acc:0.88150\n",
      "epoch 39  val acc:0.85580, train acc:0.88460\n",
      "epoch 40  val acc:0.85340, train acc:0.87810\n",
      "epoch 41  val acc:0.85780, train acc:0.89040\n",
      "epoch 42  val acc:0.82420, train acc:0.83990\n",
      "epoch 43  val acc:0.85720, train acc:0.88860\n",
      "epoch 44  val acc:0.85560, train acc:0.89500\n",
      "epoch 45  val acc:0.86620, train acc:0.89110\n",
      "epoch 46  val acc:0.85500, train acc:0.88170\n",
      "epoch 47  val acc:0.85520, train acc:0.89100\n",
      "epoch 48  val acc:0.83640, train acc:0.87290\n",
      "epoch 49  val acc:0.84760, train acc:0.87950\n"
     ]
    }
   ],
   "source": [
    "\n",
    "\n",
    "n_epochs = 50\n",
    "\n",
    "\n",
    "training_loss_vs_epoch = []\n",
    "validation_loss_vs_epoch = []\n",
    "\n",
    "training_acc_vs_epoch = []\n",
    "validation_acc_vs_epoch = []\n",
    "\n",
    "pbar = tqdm( range(n_epochs) )\n",
    "\n",
    "for epoch in pbar:\n",
    "    \n",
    "    if len(validation_loss_vs_epoch) > 1:\n",
    "        pbar.set_description('epoch',epoch,' val acc:'+'{0:.5f}'.format(validation_acc_vs_epoch[-1])+\n",
    "                             ', train acc:'+'{0:.5f}'.format(training_acc_vs_epoch[-1]))\n",
    "    \n",
    "    ####################################################\n",
    "    net.train() # put the net into \"training mode\"\n",
    "    ####################################################\n",
    "    for x,y in training_dataloader:\n",
    "        if torch.cuda.is_available():\n",
    "            x = x.cuda()\n",
    "            y = y.cuda()\n",
    "            \n",
    "        optimizer.zero_grad()\n",
    "        pred = net(x)\n",
    "        loss = loss_func(pred,y)\n",
    "        loss.backward()\n",
    "        optimizer.step()\n",
    "    \n",
    "    ####################################################\n",
    "    net.eval() #put the net into evaluation mode\n",
    "    ####################################################\n",
    "    train_acc, train_loss = compute_accuracy_and_loss(training_dataloader,net)\n",
    "    valid_acc, valid_loss =  compute_accuracy_and_loss(valid_dataloader,net)\n",
    "         \n",
    "    training_loss_vs_epoch.append(train_loss)    \n",
    "    training_acc_vs_epoch.append( train_acc )\n",
    "    \n",
    "    validation_acc_vs_epoch.append(valid_acc)\n",
    "    validation_loss_vs_epoch.append(valid_loss)\n",
    "    \n",
    "    if len(validation_loss_vs_epoch)==1 or validation_loss_vs_epoch[-2] > validation_loss_vs_epoch[-1]:\n",
    "        torch.save(net.state_dict(), 'trained_model.pt')"
   ]
  },
  {
   "cell_type": "code",
   "execution_count": 28,
   "metadata": {},
   "outputs": [
    {
     "name": "stdout",
     "output_type": "stream",
     "text": [
      "0.8598 0.8943\n"
     ]
    }
   ],
   "source": [
    "print(validation_acc_vs_epoch[-1], training_acc_vs_epoch[-1])"
   ]
  },
  {
   "cell_type": "code",
   "execution_count": 39,
   "metadata": {},
   "outputs": [
    {
     "data": {
      "image/png": "[encoded data removed]",
      "text/plain": [
       "<Figure size 576x216 with 2 Axes>"
      ]
     },
     "metadata": {
      "needs_background": "light"
     },
     "output_type": "display_data"
    }
   ],
   "source": [
    "import matplotlib.pyplot as plt\n",
    "fig,ax = plt.subplots(1,2,figsize=(8,3))\n",
    "\n",
    "ax[0].plot(training_loss_vs_epoch,label='training')\n",
    "ax[0].plot(validation_loss_vs_epoch,label='validation')\n",
    "\n",
    "ax[1].plot(training_acc_vs_epoch,label='training')\n",
    "ax[1].plot(validation_acc_vs_epoch,label='validation')\n",
    "\n",
    "y_labels = ['loss', 'accuracy']\n",
    "for i in range(2):\n",
    "    ax[i].set_xlabel('epoch')\n",
    "    ax[i].set_ylabel(y_labels[i])\n",
    "    ax[i].legend()\n",
    "\n",
    "plt.show()"
   ]
  },
  {
   "cell_type": "code",
   "execution_count": 49,
   "metadata": {},
   "outputs": [
    {
     "name": "stdout",
     "output_type": "stream",
     "text": [
      "old validation set: 0.85980\n",
      "new validation set: 0.85980\n"
     ]
    }
   ],
   "source": [
    "# Check results.\n",
    "from evaluate import evaluate_on_dataset\n",
    "\n",
    "# Test on validation set.\n",
    "accuracy = evaluate_on_dataset(path_to_validation_data)\n",
    "print(\"old validation set: {0:.5f}\".format(accuracy))\n",
    "\n",
    "# Test on a new validation set.\n",
    "valid_path = 'galaxy_validation/'\n",
    "accuracy = evaluate_on_dataset(valid_path)\n",
    "print(\"new validation set: {0:.5f}\".format(accuracy))"
   ]
  },
  {
   "cell_type": "code",
   "execution_count": null,
   "metadata": {
    "scrolled": true
   },
   "outputs": [],
   "source": []
  },
  {
   "cell_type": "code",
   "execution_count": null,
   "metadata": {},
   "outputs": [],
   "source": []
  }
 ],
 "metadata": {
  "kernelspec": {
   "display_name": "Python 3",
   "language": "python",
   "name": "python3"
  },
  "language_info": {
   "codemirror_mode": {
    "name": "ipython",
    "version": 3
   },
   "file_extension": ".py",
   "mimetype": "text/x-python",
   "name": "python",
   "nbconvert_exporter": "python",
   "pygments_lexer": "ipython3",
   "version": "3.8.5"
  }
 },
 "nbformat": 4,
 "nbformat_minor": 5
}
